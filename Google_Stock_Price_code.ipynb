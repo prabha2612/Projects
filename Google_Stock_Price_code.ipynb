{
 "cells": [
  {
   "cell_type": "code",
   "execution_count": 1,
   "id": "4ade53da",
   "metadata": {},
   "outputs": [],
   "source": [
    "import numpy as np \n",
    "import pandas as pd \n",
    "import matplotlib.pyplot as plt \n",
    "from sklearn.preprocessing import MinMaxScaler\n",
    "from keras.models import Sequential\n",
    "from keras.layers import Dense,LSTM,Dropout"
   ]
  },
  {
   "cell_type": "code",
   "execution_count": 2,
   "id": "61efbedc",
   "metadata": {},
   "outputs": [
    {
     "data": {
      "text/html": [
       "<div>\n",
       "<style scoped>\n",
       "    .dataframe tbody tr th:only-of-type {\n",
       "        vertical-align: middle;\n",
       "    }\n",
       "\n",
       "    .dataframe tbody tr th {\n",
       "        vertical-align: top;\n",
       "    }\n",
       "\n",
       "    .dataframe thead th {\n",
       "        text-align: right;\n",
       "    }\n",
       "</style>\n",
       "<table border=\"1\" class=\"dataframe\">\n",
       "  <thead>\n",
       "    <tr style=\"text-align: right;\">\n",
       "      <th></th>\n",
       "      <th>Date</th>\n",
       "      <th>Open</th>\n",
       "      <th>High</th>\n",
       "      <th>Low</th>\n",
       "      <th>Close</th>\n",
       "      <th>Volume</th>\n",
       "    </tr>\n",
       "  </thead>\n",
       "  <tbody>\n",
       "    <tr>\n",
       "      <th>0</th>\n",
       "      <td>1/3/2012</td>\n",
       "      <td>325.25</td>\n",
       "      <td>332.83</td>\n",
       "      <td>324.97</td>\n",
       "      <td>663.59</td>\n",
       "      <td>7,380,500</td>\n",
       "    </tr>\n",
       "    <tr>\n",
       "      <th>1</th>\n",
       "      <td>1/4/2012</td>\n",
       "      <td>331.27</td>\n",
       "      <td>333.87</td>\n",
       "      <td>329.08</td>\n",
       "      <td>666.45</td>\n",
       "      <td>5,749,400</td>\n",
       "    </tr>\n",
       "    <tr>\n",
       "      <th>2</th>\n",
       "      <td>1/5/2012</td>\n",
       "      <td>329.83</td>\n",
       "      <td>330.75</td>\n",
       "      <td>326.89</td>\n",
       "      <td>657.21</td>\n",
       "      <td>6,590,300</td>\n",
       "    </tr>\n",
       "    <tr>\n",
       "      <th>3</th>\n",
       "      <td>1/6/2012</td>\n",
       "      <td>328.34</td>\n",
       "      <td>328.77</td>\n",
       "      <td>323.68</td>\n",
       "      <td>648.24</td>\n",
       "      <td>5,405,900</td>\n",
       "    </tr>\n",
       "    <tr>\n",
       "      <th>4</th>\n",
       "      <td>1/9/2012</td>\n",
       "      <td>322.04</td>\n",
       "      <td>322.29</td>\n",
       "      <td>309.46</td>\n",
       "      <td>620.76</td>\n",
       "      <td>11,688,800</td>\n",
       "    </tr>\n",
       "  </tbody>\n",
       "</table>\n",
       "</div>"
      ],
      "text/plain": [
       "       Date    Open    High     Low   Close      Volume\n",
       "0  1/3/2012  325.25  332.83  324.97  663.59   7,380,500\n",
       "1  1/4/2012  331.27  333.87  329.08  666.45   5,749,400\n",
       "2  1/5/2012  329.83  330.75  326.89  657.21   6,590,300\n",
       "3  1/6/2012  328.34  328.77  323.68  648.24   5,405,900\n",
       "4  1/9/2012  322.04  322.29  309.46  620.76  11,688,800"
      ]
     },
     "execution_count": 2,
     "metadata": {},
     "output_type": "execute_result"
    }
   ],
   "source": [
    "df = pd.read_csv('Google_train_data.csv')\n",
    "df.head()"
   ]
  },
  {
   "cell_type": "code",
   "execution_count": 3,
   "id": "d99689d3",
   "metadata": {},
   "outputs": [
    {
     "name": "stdout",
     "output_type": "stream",
     "text": [
      "<class 'pandas.core.frame.DataFrame'>\n",
      "RangeIndex: 1258 entries, 0 to 1257\n",
      "Data columns (total 6 columns):\n",
      " #   Column  Non-Null Count  Dtype  \n",
      "---  ------  --------------  -----  \n",
      " 0   Date    1258 non-null   object \n",
      " 1   Open    1258 non-null   float64\n",
      " 2   High    1258 non-null   float64\n",
      " 3   Low     1258 non-null   float64\n",
      " 4   Close   1258 non-null   object \n",
      " 5   Volume  1258 non-null   object \n",
      "dtypes: float64(3), object(3)\n",
      "memory usage: 59.1+ KB\n"
     ]
    }
   ],
   "source": [
    "df.info()"
   ]
  },
  {
   "cell_type": "code",
   "execution_count": 4,
   "id": "5f2004f7",
   "metadata": {},
   "outputs": [],
   "source": [
    "df[\"Close\"]=pd.to_numeric(df.Close,errors='coerce')\n",
    "df = df.dropna()\n",
    "trainData = df.iloc[:,4:5].values"
   ]
  },
  {
   "cell_type": "code",
   "execution_count": 5,
   "id": "20bb342b",
   "metadata": {},
   "outputs": [
    {
     "data": {
      "text/plain": [
       "(1149, 1)"
      ]
     },
     "execution_count": 5,
     "metadata": {},
     "output_type": "execute_result"
    }
   ],
   "source": [
    "scale = MinMaxScaler(feature_range=(0,1))\n",
    "trainData = scale.fit_transform(trainData)\n",
    "trainData.shape"
   ]
  },
  {
   "cell_type": "code",
   "execution_count": 6,
   "id": "78adaf59",
   "metadata": {},
   "outputs": [],
   "source": [
    "X_train = []\n",
    "Y_train = []\n",
    "\n",
    "for i in range (60,1149): #60 : timestep // 1149: length of the data\n",
    "    X_train.append(trainData[i-60:i,0]) \n",
    "    Y_train.append(trainData[i,0])\n",
    "\n",
    "X_train,Y_train = np.array(X_train),np.array(Y_train)"
   ]
  },
  {
   "cell_type": "code",
   "execution_count": 7,
   "id": "d9c5d79c",
   "metadata": {},
   "outputs": [
    {
     "data": {
      "text/plain": [
       "(1089, 60, 1)"
      ]
     },
     "execution_count": 7,
     "metadata": {},
     "output_type": "execute_result"
    }
   ],
   "source": [
    "X_train = np.reshape(X_train,(X_train.shape[0],X_train.shape[1],1)) #adding the batch_size axis\n",
    "X_train.shape"
   ]
  },
  {
   "cell_type": "code",
   "execution_count": 8,
   "id": "7382ed4a",
   "metadata": {},
   "outputs": [],
   "source": [
    "sqmodel = Sequential()\n",
    "\n",
    "sqmodel.add(LSTM(units=100, return_sequences = True, input_shape =(X_train.shape[1],1)))\n",
    "sqmodel.add(Dropout(0.2))\n",
    "\n",
    "sqmodel.add(LSTM(units=100, return_sequences = True))\n",
    "sqmodel.add(Dropout(0.2))\n",
    "\n",
    "sqmodel.add(LSTM(units=100, return_sequences = True))\n",
    "sqmodel.add(Dropout(0.2))\n",
    "\n",
    "sqmodel.add(LSTM(units=100, return_sequences = False))\n",
    "sqmodel.add(Dropout(0.2))\n",
    "\n",
    "sqmodel.add(Dense(units =1))\n",
    "sqmodel.compile(optimizer='adam',loss=\"mean_squared_error\")"
   ]
  },
  {
   "cell_type": "code",
   "execution_count": 9,
   "id": "b613221a",
   "metadata": {},
   "outputs": [
    {
     "name": "stdout",
     "output_type": "stream",
     "text": [
      "Epoch 1/20\n",
      "35/35 - 14s - loss: 0.0456 - 14s/epoch - 402ms/step\n",
      "Epoch 2/20\n",
      "35/35 - 5s - loss: 0.0138 - 5s/epoch - 150ms/step\n",
      "Epoch 3/20\n",
      "35/35 - 5s - loss: 0.0102 - 5s/epoch - 150ms/step\n",
      "Epoch 4/20\n",
      "35/35 - 5s - loss: 0.0087 - 5s/epoch - 151ms/step\n",
      "Epoch 5/20\n",
      "35/35 - 5s - loss: 0.0093 - 5s/epoch - 153ms/step\n",
      "Epoch 6/20\n",
      "35/35 - 5s - loss: 0.0077 - 5s/epoch - 157ms/step\n",
      "Epoch 7/20\n",
      "35/35 - 6s - loss: 0.0070 - 6s/epoch - 171ms/step\n",
      "Epoch 8/20\n",
      "35/35 - 6s - loss: 0.0065 - 6s/epoch - 170ms/step\n",
      "Epoch 9/20\n",
      "35/35 - 6s - loss: 0.0087 - 6s/epoch - 164ms/step\n",
      "Epoch 10/20\n",
      "35/35 - 6s - loss: 0.0066 - 6s/epoch - 164ms/step\n",
      "Epoch 11/20\n",
      "35/35 - 6s - loss: 0.0063 - 6s/epoch - 160ms/step\n",
      "Epoch 12/20\n",
      "35/35 - 6s - loss: 0.0062 - 6s/epoch - 171ms/step\n",
      "Epoch 13/20\n",
      "35/35 - 6s - loss: 0.0063 - 6s/epoch - 169ms/step\n",
      "Epoch 14/20\n",
      "35/35 - 6s - loss: 0.0055 - 6s/epoch - 164ms/step\n",
      "Epoch 15/20\n",
      "35/35 - 6s - loss: 0.0054 - 6s/epoch - 162ms/step\n",
      "Epoch 16/20\n",
      "35/35 - 5s - loss: 0.0058 - 5s/epoch - 155ms/step\n",
      "Epoch 17/20\n",
      "35/35 - 5s - loss: 0.0048 - 5s/epoch - 157ms/step\n",
      "Epoch 18/20\n",
      "35/35 - 6s - loss: 0.0050 - 6s/epoch - 158ms/step\n",
      "Epoch 19/20\n",
      "35/35 - 6s - loss: 0.0050 - 6s/epoch - 159ms/step\n",
      "Epoch 20/20\n",
      "35/35 - 6s - loss: 0.0058 - 6s/epoch - 166ms/step\n"
     ]
    }
   ],
   "source": [
    "histogram = sqmodel.fit(X_train, Y_train, epochs = 20, batch_size = 32, verbose=2)"
   ]
  },
  {
   "cell_type": "code",
   "execution_count": 10,
   "id": "bddeeed5",
   "metadata": {},
   "outputs": [
    {
     "data": {
      "image/png": "[encoded data removed]",
      "text/plain": [
       "<Figure size 640x480 with 1 Axes>"
      ]
     },
     "metadata": {},
     "output_type": "display_data"
    }
   ],
   "source": [
    "plt.plot(histogram.history['loss'])\n",
    "plt.title('Training model loss')\n",
    "plt.ylabel('loss')\n",
    "plt.xlabel('epoch')\n",
    "plt.legend(['train'], loc='upper left')\n",
    "plt.show()"
   ]
  },
  {
   "cell_type": "code",
   "execution_count": 12,
   "id": "18134d42",
   "metadata": {},
   "outputs": [
    {
     "data": {
      "text/plain": [
       "(192, 60, 1)"
      ]
     },
     "execution_count": 12,
     "metadata": {},
     "output_type": "execute_result"
    }
   ],
   "source": [
    "testData = pd.read_csv('Google_test_data.csv')\n",
    "testData[\"Close\"]=pd.to_numeric(testData.Close,errors='coerce')\n",
    "testData = testData.dropna()\n",
    "testData = testData.iloc[:,4:5]\n",
    "y_test = testData.iloc[60:,0:].values \n",
    "#input array for the model\n",
    "inputClosing = testData.iloc[:,0:].values \n",
    "inputClosing_scaled = scale.transform(inputClosing)\n",
    "inputClosing_scaled.shape\n",
    "X_test = []\n",
    "length = len(testData)\n",
    "timestep = 60\n",
    "for i in range(timestep,length):  \n",
    "    X_test.append(inputClosing_scaled[i-timestep:i,0])\n",
    "X_test = np.array(X_test)\n",
    "X_test = np.reshape(X_test,(X_test.shape[0],X_test.shape[1],1))\n",
    "X_test.shape"
   ]
  },
  {
   "cell_type": "code",
   "execution_count": 13,
   "id": "8b31b1c0",
   "metadata": {},
   "outputs": [
    {
     "name": "stdout",
     "output_type": "stream",
     "text": [
      "6/6 [==============================] - 2s 57ms/step\n"
     ]
    },
    {
     "data": {
      "text/plain": [
       "array([[1.195103 ],\n",
       "       [1.1979507],\n",
       "       [1.2084122],\n",
       "       [1.2243755],\n",
       "       [1.2381519],\n",
       "       [1.2402432],\n",
       "       [1.2300363],\n",
       "       [1.2139244],\n",
       "       [1.2020211],\n",
       "       [1.1973016],\n",
       "       [1.1904591],\n",
       "       [1.180099 ],\n",
       "       [1.1704297],\n",
       "       [1.1613548],\n",
       "       [1.1584082],\n",
       "       [1.1615795],\n",
       "       [1.1770456],\n",
       "       [1.202785 ],\n",
       "       [1.233459 ],\n",
       "       [1.2648015],\n",
       "       [1.2800418],\n",
       "       [1.2799022],\n",
       "       [1.2630705],\n",
       "       [1.236434 ],\n",
       "       [1.2105196],\n",
       "       [1.1937476],\n",
       "       [1.1875687],\n",
       "       [1.1857014],\n",
       "       [1.1793678],\n",
       "       [1.1698576],\n",
       "       [1.1589534],\n",
       "       [1.1463544],\n",
       "       [1.1278987],\n",
       "       [1.1048772],\n",
       "       [1.0935426],\n",
       "       [1.0995088],\n",
       "       [1.1180487],\n",
       "       [1.1413012],\n",
       "       [1.164651 ],\n",
       "       [1.1784377],\n",
       "       [1.1913574],\n",
       "       [1.2058789],\n",
       "       [1.2223301],\n",
       "       [1.2379143],\n",
       "       [1.2490152],\n",
       "       [1.2515533],\n",
       "       [1.243616 ],\n",
       "       [1.2350801],\n",
       "       [1.2314804],\n",
       "       [1.2352606],\n",
       "       [1.2461455],\n",
       "       [1.2547252],\n",
       "       [1.2581486],\n",
       "       [1.2564594],\n",
       "       [1.2551174],\n",
       "       [1.2518343],\n",
       "       [1.2444633],\n",
       "       [1.2400869],\n",
       "       [1.2467511],\n",
       "       [1.2622305],\n",
       "       [1.2857375],\n",
       "       [1.3148273],\n",
       "       [1.3369172],\n",
       "       [1.3433979],\n",
       "       [1.3348095],\n",
       "       [1.3171773],\n",
       "       [1.302916 ],\n",
       "       [1.2964213],\n",
       "       [1.2974484],\n",
       "       [1.3014523],\n",
       "       [1.3064222],\n",
       "       [1.309916 ],\n",
       "       [1.3076082],\n",
       "       [1.3030097],\n",
       "       [1.2985677],\n",
       "       [1.2968054],\n",
       "       [1.2981365],\n",
       "       [1.30238  ],\n",
       "       [1.3126733],\n",
       "       [1.3287019],\n",
       "       [1.3498275],\n",
       "       [1.3708326],\n",
       "       [1.384093 ],\n",
       "       [1.387616 ],\n",
       "       [1.3909826],\n",
       "       [1.4010279],\n",
       "       [1.4163947],\n",
       "       [1.4307488],\n",
       "       [1.4399486],\n",
       "       [1.4430157],\n",
       "       [1.4445425],\n",
       "       [1.452035 ],\n",
       "       [1.4665716],\n",
       "       [1.4777819],\n",
       "       [1.4786564],\n",
       "       [1.4682873],\n",
       "       [1.4487352],\n",
       "       [1.4249766],\n",
       "       [1.4038737],\n",
       "       [1.3941023],\n",
       "       [1.3974359],\n",
       "       [1.4110668],\n",
       "       [1.4312515],\n",
       "       [1.4504913],\n",
       "       [1.463644 ],\n",
       "       [1.4680835],\n",
       "       [1.4665796],\n",
       "       [1.462752 ],\n",
       "       [1.461952 ],\n",
       "       [1.4655427],\n",
       "       [1.4732245],\n",
       "       [1.4845771],\n",
       "       [1.4966918],\n",
       "       [1.5097047],\n",
       "       [1.5253785],\n",
       "       [1.5390859],\n",
       "       [1.5497772],\n",
       "       [1.5586712],\n",
       "       [1.5690958],\n",
       "       [1.5553653],\n",
       "       [1.5147564],\n",
       "       [1.4598702],\n",
       "       [1.4115691],\n",
       "       [1.3808948],\n",
       "       [1.365818 ],\n",
       "       [1.3607669],\n",
       "       [1.3608639],\n",
       "       [1.3639677],\n",
       "       [1.3614506],\n",
       "       [1.3504503],\n",
       "       [1.3443768],\n",
       "       [1.3508337],\n",
       "       [1.3640802],\n",
       "       [1.37297  ],\n",
       "       [1.3765817],\n",
       "       [1.376697 ],\n",
       "       [1.3728106],\n",
       "       [1.3648032],\n",
       "       [1.3549818],\n",
       "       [1.3418996],\n",
       "       [1.3278422],\n",
       "       [1.3124189],\n",
       "       [1.2830906],\n",
       "       [1.246722 ],\n",
       "       [1.2100052],\n",
       "       [1.1798577],\n",
       "       [1.1644201],\n",
       "       [1.1671445],\n",
       "       [1.1836526],\n",
       "       [1.2063259],\n",
       "       [1.2308497],\n",
       "       [1.2522948],\n",
       "       [1.2692852],\n",
       "       [1.2834189],\n",
       "       [1.2943983],\n",
       "       [1.3036088],\n",
       "       [1.313119 ],\n",
       "       [1.3208985],\n",
       "       [1.3192148],\n",
       "       [1.3067604],\n",
       "       [1.2869773],\n",
       "       [1.2664617],\n",
       "       [1.2534239],\n",
       "       [1.2526165],\n",
       "       [1.2642068],\n",
       "       [1.2852957],\n",
       "       [1.306339 ],\n",
       "       [1.3234221],\n",
       "       [1.3381925],\n",
       "       [1.3512943],\n",
       "       [1.3620057],\n",
       "       [1.3705673],\n",
       "       [1.3772547],\n",
       "       [1.380113 ],\n",
       "       [1.379079 ],\n",
       "       [1.3716689],\n",
       "       [1.3615112],\n",
       "       [1.3536272],\n",
       "       [1.3479261],\n",
       "       [1.3428782],\n",
       "       [1.3646333],\n",
       "       [1.4095222],\n",
       "       [1.4593873],\n",
       "       [1.4976935],\n",
       "       [1.5163317],\n",
       "       [1.5136075],\n",
       "       [1.4865638],\n",
       "       [1.4496057],\n",
       "       [1.4155886],\n",
       "       [1.3983612],\n",
       "       [1.3949208],\n",
       "       [1.3968406]], dtype=float32)"
      ]
     },
     "execution_count": 13,
     "metadata": {},
     "output_type": "execute_result"
    }
   ],
   "source": [
    "y_pred = sqmodel.predict(X_test)\n",
    "y_pred"
   ]
  },
  {
   "cell_type": "code",
   "execution_count": 15,
   "id": "a505d36f",
   "metadata": {},
   "outputs": [],
   "source": [
    "predicted_price = scale.inverse_transform(y_pred)"
   ]
  },
  {
   "cell_type": "code",
   "execution_count": 16,
   "id": "348c2567",
   "metadata": {},
   "outputs": [
    {
     "data": {
      "image/png": "[encoded data removed]",
      "text/plain": [
       "<Figure size 640x480 with 1 Axes>"
      ]
     },
     "metadata": {},
     "output_type": "display_data"
    }
   ],
   "source": [
    "plt.plot(y_test, color = 'green', label = 'True Testing Price')\n",
    "plt.plot(predicted_price, color = 'purple', label = 'Predicted Testing Price')\n",
    "plt.title('GOOGLE stock price prediction')\n",
    "plt.xlabel('Time')\n",
    "plt.ylabel('Google Stock Price')\n",
    "plt.legend()\n",
    "plt.show()"
   ]
  },
  {
   "cell_type": "code",
   "execution_count": null,
   "id": "3b783eba",
   "metadata": {},
   "outputs": [],
   "source": []
  }
 ],
 "metadata": {
  "kernelspec": {
   "display_name": "Python 3 (ipykernel)",
   "language": "python",
   "name": "python3"
  },
  "language_info": {
   "codemirror_mode": {
    "name": "ipython",
    "version": 3
   },
   "file_extension": ".py",
   "mimetype": "text/x-python",
   "name": "python",
   "nbconvert_exporter": "python",
   "pygments_lexer": "ipython3",
   "version": "3.9.2"
  }
 },
 "nbformat": 4,
 "nbformat_minor": 5
}
